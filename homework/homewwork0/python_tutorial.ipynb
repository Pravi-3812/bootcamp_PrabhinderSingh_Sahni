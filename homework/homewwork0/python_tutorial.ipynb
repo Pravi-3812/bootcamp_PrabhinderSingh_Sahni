{
 "cells": [
  {
   "cell_type": "code",
   "execution_count": null,
   "id": "3fdd3d3b-fc56-40b8-8ebe-4092f57506f3",
   "metadata": {},
   "outputs": [],
   "source": [
    "print(\"helloworld\")"
   ]
  }
 ],
 "metadata": {
  "kernelspec": {
   "display_name": "Python [conda env:base] *",
   "language": "python",
   "name": "conda-base-py"
  },
  "language_info": {
   "codemirror_mode": {
    "name": "ipython",
    "version": 3
   },
   "file_extension": ".py",
   "mimetype": "text/x-python",
   "name": "python",
   "nbconvert_exporter": "python",
   "pygments_lexer": "ipython3",
   "version": "3.13.5"
  }
 },
 "nbformat": 4,
 "nbformat_minor": 5
}
